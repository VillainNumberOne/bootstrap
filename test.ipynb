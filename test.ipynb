{
 "metadata": {
  "language_info": {
   "codemirror_mode": {
    "name": "ipython",
    "version": 3
   },
   "file_extension": ".py",
   "mimetype": "text/x-python",
   "name": "python",
   "nbconvert_exporter": "python",
   "pygments_lexer": "ipython3",
   "version": "3.8.3"
  },
  "orig_nbformat": 2,
  "kernelspec": {
   "name": "python383jvsc74a57bd0e922dd073470bdcc017ae3abd31d6491d6ed7bf31c1d559806e5511bfea88b81",
   "display_name": "Python 3.8.3 64-bit ('base': conda)"
  }
 },
 "nbformat": 4,
 "nbformat_minor": 2,
 "cells": [
  {
   "cell_type": "code",
   "execution_count": 76,
   "metadata": {},
   "outputs": [],
   "source": [
    "from arch.bootstrap import StationaryBootstrap, IIDBootstrap, CircularBlockBootstrap, MovingBlockBootstrap, IndependentSamplesBootstrap\n",
    "from modified_arch_bootstrap import *\n",
    "\n",
    "from numpy.random import standard_normal\n",
    "import pandas as pd\n",
    "import numpy as np\n",
    "import matplotlib.pyplot as plt\n",
    "import datetime"
   ]
  },
  {
   "source": [
    "### #1"
   ],
   "cell_type": "markdown",
   "metadata": {}
  },
  {
   "cell_type": "code",
   "execution_count": 77,
   "metadata": {
    "tags": []
   },
   "outputs": [
    {
     "output_type": "stream",
     "name": "stdout",
     "text": [
      "[7 8 9 0 1 4 5 6 7 8]\n[8 9 0 1 2 2 3 4 5 6]\n[1 2 3 4 5 1 2 3 4 5]\n"
     ]
    }
   ],
   "source": [
    "z = np.arange(10)\n",
    "bs = CircularBlockBootstrap(5, z=z)\n",
    "\n",
    "for a, b in bs.bootstrap(3):\n",
    "    print(b['z'])\n"
   ]
  },
  {
   "source": [
    "### #2"
   ],
   "cell_type": "markdown",
   "metadata": {}
  },
  {
   "cell_type": "code",
   "execution_count": 78,
   "metadata": {},
   "outputs": [
    {
     "output_type": "stream",
     "name": "stdout",
     "text": [
      "[78 79 80 81 82 61 62 63 64 65 36 37 38 39 40 85 86 87 88 89  4  5  6  7\n  8 90 91 92 93 94]\n"
     ]
    }
   ],
   "source": [
    "samples = 30\n",
    "z = np.arange(100)\n",
    "bs = CircularBlockBootstrap(5, z=z)\n",
    "\n",
    "for a, b in bs.bootstrap(1):\n",
    "    print(b['z'][:samples])"
   ]
  },
  {
   "source": [
    "### #3"
   ],
   "cell_type": "markdown",
   "metadata": {}
  },
  {
   "cell_type": "code",
   "execution_count": 79,
   "metadata": {},
   "outputs": [
    {
     "output_type": "stream",
     "name": "stdout",
     "text": [
      "[11 12 13 14 15  4  5  6  7  8 18 19 20 21 22 22 23 24 25 26 23 24 25 26\n 27 17 18 19 20 21]\n[11 12 13 14 15  4  5  6  7  8 20 21 22 23 24 26 27 28 29  0  7  8  9 10\n 11 28 29  0  1  2]\n[16 17 18 19 20 20 21 22 23 24 22 23 24 25 26 27 28 29  0  1 20 21 22 23\n 24 21 22 23 24 25]\n"
     ]
    }
   ],
   "source": [
    "samples = 30\n",
    "z = np.arange(100)\n",
    "bs = CircularBlockBootstrapM(30, 5, z=z)\n",
    "\n",
    "for a, b in bs.bootstrap(3):\n",
    "    print(b['z'])"
   ]
  },
  {
   "cell_type": "code",
   "execution_count": null,
   "metadata": {},
   "outputs": [],
   "source": []
  }
 ]
}